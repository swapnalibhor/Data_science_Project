{
 "cells": [
  {
   "cell_type": "markdown",
   "id": "4693ba01",
   "metadata": {},
   "source": [
    "# TOPIC: VARIABLE, STRING , INT, FLOAT"
   ]
  },
  {
   "cell_type": "code",
   "execution_count": null,
   "id": "83f01e52",
   "metadata": {},
   "outputs": [],
   "source": [
    "Q1. WHAT ARE THE KEY FEATURE OF PYTHON?\n",
    "- KEY FEATURE OF PYTHON ARE AS FOLLOWS:\n",
    "    1) Python is open source programming language which is freely available to everyone.\n",
    "    2) Python High level programming language which is easy to read.\n",
    "    3) Python object oriented programming language.\n",
    "    4) Python is platform independent programming language\n",
    "    5) Python is dynamically-typed language\n",
    "    6) Python is portable programming language\n",
    "    7) Python has huge number of library support. \n",
    "    8) Python is an interepreted programming language.\n",
    "    9) Automated memory management done by python. \n"
   ]
  },
  {
   "cell_type": "code",
   "execution_count": null,
   "id": "d92a991a",
   "metadata": {},
   "outputs": [],
   "source": [
    "Q2. What are data type in python?\n",
    "1) Text data type- string (str)\n",
    "2) Numeric data type- Int , float, complex\n",
    "3) sequence data type- list , tuple, set, frozenset, range.\n",
    "4) mapping data type- Dictionary\n",
    "5) Boolean data type - Bool value\n",
    "6) Set data type- set, frozen set.  \n"
   ]
  },
  {
   "cell_type": "code",
   "execution_count": null,
   "id": "03844726",
   "metadata": {},
   "outputs": [],
   "source": [
    "Q3.What are 'Local variable' and 'Global variable'?\n",
    "Global Variable- Variable which declare outside the function and has access in whole function. \n",
    "local Variable- variable which declare inside the function and has scope for that function."
   ]
  },
  {
   "cell_type": "code",
   "execution_count": null,
   "id": "b1ef25d9",
   "metadata": {},
   "outputs": [],
   "source": [
    "Q4. How do you write comments in python? And Why Comments are important?\n",
    "- Comment are use to write somthing important point for future reference, but program dose not want to exicute:\n",
    "comment in python can be written\n",
    "\n",
    "1. by using # for single line comment\n",
    "example:\n",
    " print(\"Welcome to new house!!!\")  # this is my fisrt line of code\n",
    "\n",
    " Welcome to new house!!!\n",
    "    \n",
    "2. by using__ \"\"\" \"\"\" for multiline comment\n",
    "Exampe:\n",
    " \"\"\"print(Data science is an interdisciplinary field\n",
    " that uses scientific methods,\n",
    " processes, algorithms and systems to extract knowledge and \n",
    " insights from noisy, structured and unstructured data, \n",
    " and apply knowledge and actionable insights from data across a \n",
    " broad range of application domains. )\n",
    " \"\"\"\n",
    " print(\"Welcome to new house!!!\")\n",
    "    \n",
    " Welcome to new house!!!\n",
    "\n",
    "Importence of comment:\n",
    "1) Comments can be used to explain Python code.\n",
    "2) Comments can be used to make the code more readable.\n",
    "3) Comments can be used to prevent execution when testing code.\n",
    "4) It used to provide significance what program /method user following and keeping a short note to avoid confusion in program, \n",
    "so that in future we can understand our code easily and within short time span. \n",
    "5) Sometimes comments may provide guideline to creat new program or make changes into it. "
   ]
  },
  {
   "cell_type": "code",
   "execution_count": null,
   "id": "6aec4370",
   "metadata": {},
   "outputs": [],
   "source": [
    "Q5. How to comment on multiple lines in python?\n",
    "- Multiple line comment in python we use \"\"\"   \"\"\"\n",
    "Since Python will ignore string literals that are not assigned to a variable, you can add a multiline string (triple\n",
    "quotes) in your code, and place your comment inside it:\n",
    "    \"\"\"print(Data science is an interdisciplinary field.\n",
    " that uses scientific methods,\n",
    " processes, algorithms and systems to extract knowledge.\n",
    " and insights from noisy, structured and unstructured data. \n",
    " and apply knowledge and actionable insights from data across a \n",
    " broad range of application domains. )\n",
    " \"\"\"\n",
    " print(\"Welcome to new house!!!\")\n",
    "\n",
    "Welcome to new house!!!"
   ]
  },
  {
   "cell_type": "code",
   "execution_count": null,
   "id": "2be26e0d",
   "metadata": {},
   "outputs": [],
   "source": [
    "Q6. What do you mean by Python literals?\n",
    "- 1)For doing any program we are creating new variables as per problem definition. \n",
    "2) At the time of variable creation we are assigning some raw data to that variable , this raw data/value is called as literals\n",
    "in python. \n",
    "3)This literals are may be int, float, complex or sequence such as string, list, tuple, set, dictionaries also.\n",
    "4) For example:\n",
    "A = \"welcome\"\n",
    "#here 'welcome' is a literal assigned to variable 'A'"
   ]
  },
  {
   "cell_type": "code",
   "execution_count": null,
   "id": "281268b7",
   "metadata": {},
   "outputs": [],
   "source": [
    "Q7. What are different ways to assign value to variables?\n",
    "- Different ways to assign value to variables:\n",
    "1. Direct initialization\n",
    "In this method we are directly assign value to the variable by using ‘=’ equal to sign.\n",
    "e.g x = 5\n",
    " y = \"John\"\n",
    " print(x)\n",
    " print(y)\n",
    "    \n",
    " 5\n",
    " john\n",
    " a) Many Values to Multiple Variables:\n",
    "Python allows you to assign values to multiple variables in one line:\n",
    " x, y, z = \"Orange\", \"Banana\", \"Cherry\"\n",
    " print(x)\n",
    " print(y)\n",
    " print(z)\n",
    " Orange\n",
    " Banana\n",
    " Cherry\n",
    "\n",
    " b) One Value to Multiple Variables:\n",
    "And you can assign the same value to multiple variables in one line:\n",
    " x = y = z = \"Swap\"\n",
    " print(x)\n",
    " print(y)\n",
    " print(z)\n",
    "Swap\n",
    "Swap\n",
    "Swap \n",
    "\n",
    "2. By using if_else\n",
    "In if else statement we are creating the new variable and assign value it by evaluating some conditions so that\n",
    "evaluated value will be stored inside that value.\n"
   ]
  },
  {
   "cell_type": "code",
   "execution_count": null,
   "id": "7d8aba25",
   "metadata": {},
   "outputs": [],
   "source": [
    "Q8. What are the Escape Characters in python?\n",
    "1) To insert characters that are illegal in a string, we use an escape character.\n",
    "2) An escape character is a backslash \\ followed by the character you want to insert.\n",
    "3) An example of an illegal character is a double quote inside a string that is surrounded by double quotes:\n",
    "    \n",
    " txt = \"python use for \"Data scince\".\"\n",
    "\n",
    "#You will get an error if you use double quotes inside a string that is surrounded by double quotes:\n",
    " txt = \"python use for \"Data scince\".\"\n",
    " ^\n",
    "SyntaxError: invalid syntax\n",
    "To fix this problem, use the escape character \\ :\n",
    " txt = \"python use for \\\"Data scince\\\".\"\n",
    "\n",
    " python use for \"Data scince\".\n",
    "    \n",
    "Escape Characters in python:\n",
    " \\' for single quotes\n",
    " \\\" for double quotes\n",
    " \\n for new line\n",
    " \\t for tab spacing\n"
   ]
  },
  {
   "cell_type": "code",
   "execution_count": null,
   "id": "ba2f072c",
   "metadata": {},
   "outputs": [],
   "source": [
    "Q9 Which are the different ways to perform string formatting?\n",
    "Explain with example.\n",
    "-\n",
    "1.using f string literals:\n",
    "Begin a string with f or F before the opening quotation mark or triple quotation mark. Inside this string, you can\n",
    "write a Python expression between { and } characters that can refer to variables or literal values. Example:\n",
    " date =\"14\"\n",
    " month=\"feb\"\n",
    " event = \"valentine day\"\n",
    " print(f'today,{date} {month}= { event}')\n",
    "    \n",
    " today,05 feb valentine day\n",
    "\n",
    "1.Formatting string using format() method:\n",
    "    \n",
    "A placeholder is used by placing curly brackets and the format method contains the\n",
    "variables that need to be put in those positions in the string.\n",
    "For above example:\n",
    "no1= 21\n",
    "no2= 25\n",
    "total =a+b\n",
    "print (\"addition of {} and {} is {}\" .format(no1, no2, total))\n",
    "\n",
    "addition of 21 and 25 is 100"
   ]
  },
  {
   "cell_type": "code",
   "execution_count": 30,
   "id": "1019c463",
   "metadata": {},
   "outputs": [
    {
     "name": "stdout",
     "output_type": "stream",
     "text": [
      "Enter the string\n",
      "Dhanu\n",
      "D\n",
      "h\n",
      "a\n",
      "n\n",
      "u\n"
     ]
    }
   ],
   "source": [
    "#Q10. Write a program to print every character of a string entered\n",
    "#by the user in a new line using a loop\n",
    "#-\n",
    "user_string = input(\"Enter the string\\n\")\n",
    "for string_index, item in enumerate(user_string):\n",
    "    print(item)\n",
    "    \n",
    "    \n",
    "    or \n",
    "#string = input(\"Enter the string\")\n",
    "#for i in string:\n",
    "#    print(i)\n",
    "  "
   ]
  },
  {
   "cell_type": "code",
   "execution_count": null,
   "id": "0c2ce391",
   "metadata": {},
   "outputs": [],
   "source": [
    "Q11. Write a program to find the length of the string \"machine learning\" with \n",
    "and without using len function\n",
    "\n",
    "1)length of the string using length function. \n",
    "string= \"machine learning\"\n",
    "print(len(string))\n",
    "\n",
    "16\n",
    "\n",
    "2) length of the string without using length function.\n",
    "string= \"machine learning\"\n",
    "i = 0   #we have to initialize this to 0 as string index starts from 0.\n",
    "for item in string:\n",
    "    i = i+1\n",
    "print(f'Length of the string without using length function is = ',i)  #here loop is executing\n",
    "\n",
    "Length of the string without using length function is =  16"
   ]
  },
  {
   "cell_type": "code",
   "execution_count": 10,
   "id": "e54b0ae1",
   "metadata": {},
   "outputs": [
    {
     "name": "stdout",
     "output_type": "stream",
     "text": [
      "orange is present\n"
     ]
    }
   ],
   "source": [
    "12. Write a program to check if the word 'orange' is\n",
    "present in the \"This is orange juice\".\n",
    "-\n",
    "str1= \"This is orange juice\"\n",
    "if \"orange\" in str1:\n",
    "    print(\"orange is present\")\n",
    "else:\n",
    "    print(\"orange is not present\")"
   ]
  },
  {
   "cell_type": "code",
   "execution_count": 1,
   "id": "d8682ecb",
   "metadata": {},
   "outputs": [
    {
     "name": "stdout",
     "output_type": "stream",
     "text": [
      "Enter string: Swap And Dhanesh Is beautiful couple in 2022\n",
      "digits: 4 \n",
      "vowels: 14 \n",
      "consonants: 19 \n",
      "space: 7\n"
     ]
    }
   ],
   "source": [
    "#Q.13 Write a program to find the number of vowels, consonants,\n",
    "#digits, and white space characters in a string.\n",
    "\n",
    "d = input(\"Enter string: \")\n",
    "list1 = \"aeiouAEIOU\"\n",
    "digi,whspc,con,vow=0,0,0,0\n",
    "for i in d:\n",
    "    if i.isspace():\n",
    "          whspc+=1\n",
    "    elif i.isdecimal():\n",
    "        digi+=1\n",
    "    elif i.isalpha():\n",
    "        if i in list1:\n",
    "            vow+=1\n",
    "        else:\n",
    "            con+=1\n",
    "print(\"digits:\",digi,\"\\nvowels:\",vow,\"\\nconsonants:\",con,\"\\nspace:\",whspc)\n"
   ]
  },
  {
   "cell_type": "code",
   "execution_count": 18,
   "id": "575e8e51",
   "metadata": {},
   "outputs": [
    {
     "name": "stdout",
     "output_type": "stream",
     "text": [
      "Enter string: Data Science @123@gmail.com is AweSOME\n",
      "uppercase: 7 \n",
      " lowecase: 21 \n",
      "Special character: 3 \n",
      "Numeric: 3\n"
     ]
    }
   ],
   "source": [
    "14. Write a Python program to count Uppercase,Lowercase, special character, \n",
    "and numeric values in a given string.\n",
    "e = input(\"Enter string: \")\n",
    "up,lw,sp,num=0,0,0,0\n",
    "for i in e:\n",
    "    if i.isupper():\n",
    "        up+=1\n",
    "    elif i.islower():\n",
    "        lw+=1\n",
    "    elif i.isdecimal():\n",
    "        num+=1\n",
    "    elif i.isspace():\n",
    "        pass\n",
    "    else:\n",
    "        sp+=1\n",
    "print(\"uppercase:\", up,\"\\n lowecase:\",lw, \"\\nSpecial character:\",sp,\"\\nNumeric:\",num)\n"
   ]
  },
  {
   "cell_type": "code",
   "execution_count": 7,
   "id": "0b6a3594",
   "metadata": {},
   "outputs": [
    {
     "name": "stdout",
     "output_type": "stream",
     "text": [
      "consonants deleted from the string= Hll, hv  gd dy\n"
     ]
    }
   ],
   "source": [
    "#15. Write a program to make a new string with all the consonants deleted\n",
    "#from the string \"Hello, have a good day\".\n",
    "str2= \"Hello, have a good day\"\n",
    "t = \"aeiouAEIOU\"\n",
    "for i in str2:\n",
    "    if i not in t:\n",
    "        str2=str2.replace(i,\"\")\n",
    "print(\"consonants deleted from the string=\",str2)"
   ]
  },
  {
   "cell_type": "code",
   "execution_count": 2,
   "id": "b8cf5491",
   "metadata": {},
   "outputs": [
    {
     "name": "stdout",
     "output_type": "stream",
     "text": [
      "Enter the index no to remove: 6\n",
      "data s ien e with python\n"
     ]
    }
   ],
   "source": [
    "#16. Write a Python program to remove the nth index character from a non-empty \n",
    "#string.\n",
    "h =\"data science with python\"\n",
    "n = int(input(\"Enter the index no to remove: \"))\n",
    "for i in range(0,len(h)):\n",
    "    if i==n:\n",
    "        h=h.replace(h[i],\" \")\n",
    "print(h)\n"
   ]
  },
  {
   "cell_type": "code",
   "execution_count": 32,
   "id": "fc61ba9f",
   "metadata": {},
   "outputs": [
    {
     "name": "stdout",
     "output_type": "stream",
     "text": [
      "Enter string: data science\n",
      "eata sciencd\n"
     ]
    }
   ],
   "source": [
    "17. Write a Python program to change a given string to a new string where the first and last characters have been exchanged.\n",
    "j = input(\"Enter string: \")\n",
    "lst = list(j)\n",
    "lst[0],lst[-1]=lst[-1],lst[0]\n",
    "lst = \"\".join(lst)\n",
    "print(lst)"
   ]
  },
  {
   "cell_type": "code",
   "execution_count": 41,
   "id": "134c4b61",
   "metadata": {},
   "outputs": [
    {
     "name": "stdout",
     "output_type": "stream",
     "text": [
      "{'Data': 2, 'Science': 2, 'is': 2, 'Awesome.': 1, 'important': 1}\n"
     ]
    }
   ],
   "source": [
    "18. Write a Python program to count the occurrences of each word in a given sentence.\n",
    "\n",
    "def word_count(str):\n",
    "    counts = dict()\n",
    "    words = str.split()\n",
    "    for word in words:\n",
    "        if word in counts:\n",
    "            counts[word] += 1\n",
    "        else:\n",
    "            counts[word] = 1\n",
    "        \n",
    "    return counts\n",
    "print( word_count('Data Science is Awesome. Data Science is important'))"
   ]
  },
  {
   "cell_type": "code",
   "execution_count": 46,
   "id": "008a02ba",
   "metadata": {},
   "outputs": [
    {
     "data": {
      "text/plain": [
       "2"
      ]
     },
     "execution_count": 46,
     "metadata": {},
     "output_type": "execute_result"
    }
   ],
   "source": [
    "19. How do you count the occurrence of a given character in a string?\n",
    "In python the count() fuction is used to count the number of character appeared in a string.\n",
    "Syntax : var.count(substring,[start_index],[end_index])\n",
    "    \n",
    "str1= \"Data Science is Awesome. Data Science is important\"\n",
    "str2= \"Science\"\n",
    "str1.count(str2)"
   ]
  },
  {
   "cell_type": "code",
   "execution_count": 3,
   "id": "2095e16f",
   "metadata": {},
   "outputs": [
    {
     "name": "stdout",
     "output_type": "stream",
     "text": [
      "Enter string: swapnali dhnesh\n",
      "ali dhnesh\n"
     ]
    }
   ],
   "source": [
    "#20. Write a program to find last 10 characters of a string\n",
    "l = input(\"Enter string: \")\n",
    "#lst1 = l.split(\" \")\n",
    "#print(lst1)\n",
    "#lst=\"\".join(lst1)\n",
    "print(l[-10:])"
   ]
  },
  {
   "cell_type": "code",
   "execution_count": 4,
   "id": "c1d3c42e",
   "metadata": {},
   "outputs": [
    {
     "name": "stdout",
     "output_type": "stream",
     "text": [
      "Enter string :swApnali\n",
      "Enter at least 2 uppercase characters in the first 4 characters\n"
     ]
    }
   ],
   "source": [
    "#21. WAP to convert a given string to all uppercase if it contains at least 2 uppercase \n",
    "#characters in the first 4 characters.\n",
    "\n",
    "str21=input('Enter string :')\n",
    "str21_4=str21[:4]\n",
    "count =0\n",
    "for i in str21_4:\n",
    "    if i.isupper():\n",
    "        count=count+1\n",
    "if count >=2:\n",
    "    print(str21.upper())\n",
    "else:\n",
    "    print('Enter at least 2 uppercase characters in the first 4 characters')"
   ]
  },
  {
   "cell_type": "code",
   "execution_count": 51,
   "id": "b815748c",
   "metadata": {},
   "outputs": [
    {
     "name": "stdout",
     "output_type": "stream",
     "text": [
      "Python \n",
      "Exercises\n",
      "Python Exercises\n"
     ]
    }
   ],
   "source": [
    "#22. Write a Python program to remove a newline in Python.\n",
    "n ='Python \\nExercises'\n",
    "print(n)\n",
    "n = n.replace(\"\\n\",\"\")\n",
    "print(n)"
   ]
  },
  {
   "cell_type": "code",
   "execution_count": 6,
   "id": "3878f2ac",
   "metadata": {},
   "outputs": [
    {
     "name": "stdout",
     "output_type": "stream",
     "text": [
      "32,054.23\n"
     ]
    }
   ],
   "source": [
    "# 23. Write a Python program to swap commas and dots in a string\n",
    "amount = \"32.054,23\"\n",
    "maketrans = amount.maketrans\n",
    "amount = amount.translate(maketrans(',.', '.,'))\n",
    "print(amount)\n",
    "\n"
   ]
  },
  {
   "cell_type": "code",
   "execution_count": 1,
   "id": "a992100c",
   "metadata": {},
   "outputs": [
    {
     "name": "stdout",
     "output_type": "stream",
     "text": [
      "32,56. 78\n"
     ]
    }
   ],
   "source": [
    "a=\"32.56, 78\"\n",
    "a=a.replace(\",\", 'place')# we can use anything instead of place\n",
    "a= a.replace(\".\", \",\")\n",
    "a=a.replace('place', \".\")\n",
    "print(a)"
   ]
  },
  {
   "cell_type": "code",
   "execution_count": 57,
   "id": "de07b91c",
   "metadata": {},
   "outputs": [
    {
     "name": "stdout",
     "output_type": "stream",
     "text": [
      "Enter String: tapnali fhanesh\n",
      "First repeated character in string: a\n"
     ]
    }
   ],
   "source": [
    "#24. Write a Python program to find the first repeated character in a given string\n",
    "string=input(\"Enter String: \")\n",
    "for index,char in enumerate(string):\n",
    "    if string.count(char)>1:\n",
    "        string=char\n",
    "print(f\"First repeated character in string: {string}\")"
   ]
  },
  {
   "cell_type": "code",
   "execution_count": 12,
   "id": "6ab9a4e6",
   "metadata": {},
   "outputs": [
    {
     "name": "stdout",
     "output_type": "stream",
     "text": [
      "Enter String: Hello this is world of data science and world is beautiful\n",
      "['world']\n"
     ]
    }
   ],
   "source": [
    "#25. Write a Python program to find the second most repeated word in a given string\n",
    "string = input(\"Enter String: \")\n",
    "string = string.split()\n",
    "str1 = []\n",
    "for char in string:\n",
    "    if string.count(char)>1:\n",
    "        str1.append(char)\n",
    "print(str1[1:2])\n"
   ]
  },
  {
   "cell_type": "code",
   "execution_count": 64,
   "id": "1d7fb34a",
   "metadata": {},
   "outputs": [
    {
     "name": "stdout",
     "output_type": "stream",
     "text": [
      "Even numbers in the string is 4\n",
      "Odd numbers in the string is 5\n"
     ]
    }
   ],
   "source": [
    "#26. Python program to Count Even and Odd numbers in a string\n",
    "string = \"123456789\"\n",
    "even = 0\n",
    "odd = 0\n",
    "for i in string:\n",
    "    if i.isdecimal():\n",
    "        if int(i)%2==0:\n",
    "            even=even+1\n",
    "        if int(i)%2!=0:\n",
    "            odd=odd+1\n",
    "print(f\"Even numbers in the string is {even}\")\n",
    "print(f'Odd numbers in the string is {odd}')"
   ]
  },
  {
   "cell_type": "code",
   "execution_count": 66,
   "id": "824ac6a9",
   "metadata": {},
   "outputs": [
    {
     "name": "stdout",
     "output_type": "stream",
     "text": [
      "True\n"
     ]
    }
   ],
   "source": [
    "#27. How do you check if a string contains only digits?\n",
    "string = \"123456789\"\n",
    "print(string.isdigit())"
   ]
  },
  {
   "cell_type": "code",
   "execution_count": null,
   "id": "c85b7c21",
   "metadata": {},
   "outputs": [],
   "source": [
    "28. How do you remove a given character/word from\n",
    "String?\n",
    "Given character/word can be removed from the string with the help of replace function.\n",
    "Syntax: var.replace(\"old_string\",\"new_string\")\n",
    "If we give nothing in the new string it will just remove the old string"
   ]
  },
  {
   "cell_type": "code",
   "execution_count": 14,
   "id": "ceb75d64",
   "metadata": {},
   "outputs": [
    {
     "name": "stdout",
     "output_type": "stream",
     "text": [
      "Hello this is  of data science and  is beautiful\n"
     ]
    }
   ],
   "source": [
    "str1= \"Hello this is world of data science and world is beautiful\"\n",
    "str2= str1.replace(\"world\", \"\")\n",
    "\n",
    "print(str2)"
   ]
  },
  {
   "cell_type": "code",
   "execution_count": 68,
   "id": "ab63ac55",
   "metadata": {},
   "outputs": [
    {
     "name": "stdout",
     "output_type": "stream",
     "text": [
      "dt cec\n"
     ]
    }
   ],
   "source": [
    "#29. Write a Python program to remove the characters which have odd index values of a given string\n",
    "string29=\"data science\"\n",
    "odd_char=\" \"\n",
    "rep_str=\"\"\n",
    "for i in range(len(string29)):\n",
    "    if i % 2 == 0:\n",
    "        rep_str=rep_str + string29[i]\n",
    "\n",
    "print(rep_str)"
   ]
  },
  {
   "cell_type": "code",
   "execution_count": 69,
   "id": "7b729327",
   "metadata": {},
   "outputs": [
    {
     "name": "stdout",
     "output_type": "stream",
     "text": [
      "Enter the String: datad\n",
      "5\n",
      "datad\n"
     ]
    }
   ],
   "source": [
    "#30. Write a Python function to reverses a string if its length is a multiple of 5\n",
    "string = input(\"Enter the String: \")\n",
    "print(len(string))\n",
    "if len(string)%5==0:\n",
    "    print(string[-1::-1])\n",
    "else:\n",
    "    print(string)\n"
   ]
  },
  {
   "cell_type": "code",
   "execution_count": 3,
   "id": "d4f901bf",
   "metadata": {},
   "outputs": [
    {
     "name": "stdout",
     "output_type": "stream",
     "text": [
      "Enter the value: 5.6\n",
      "Percentage = 5.6%\n"
     ]
    }
   ],
   "source": [
    "#31. Write a Python program to format a number with a percentage(0.05 >> 5%)\n",
    "value = float(input(\"Enter the value: \"))\n",
    "value1 = (value)*100/100\n",
    "print(f\"Percentage = {value1}%\")\n"
   ]
  },
  {
   "cell_type": "code",
   "execution_count": 7,
   "id": "264ad00e",
   "metadata": {},
   "outputs": [
    {
     "name": "stdout",
     "output_type": "stream",
     "text": [
      "Enter your string: python and data science\n",
      "Reversed words in given string: science data and python\n"
     ]
    }
   ],
   "source": [
    "# 32. Write a Python program to reverse words in a string\n",
    "\n",
    "string = input(\"Enter your string: \")\n",
    "str_list=string.split(' ')\n",
    "print('Reversed words in given string:', ' '.join(str_list[::-1]))"
   ]
  },
  {
   "cell_type": "code",
   "execution_count": 8,
   "id": "e31da627",
   "metadata": {},
   "outputs": [
    {
     "name": "stdout",
     "output_type": "stream",
     "text": [
      "Enter your string: ptjNon And Fatab\n"
     ]
    },
    {
     "data": {
      "text/plain": [
       "'PTJnON aND fATAB'"
      ]
     },
     "execution_count": 8,
     "metadata": {},
     "output_type": "execute_result"
    }
   ],
   "source": [
    "#33. Write a Python program to swap cases of a given string\n",
    "\n",
    "string = input(\"Enter your string: \")\n",
    "string.swapcase()"
   ]
  },
  {
   "cell_type": "code",
   "execution_count": 15,
   "id": "782e8b56",
   "metadata": {},
   "outputs": [
    {
     "name": "stdout",
     "output_type": "stream",
     "text": [
      "Enter your string: Python and data\n",
      "Python and data\n"
     ]
    }
   ],
   "source": [
    "#Q. 34. Write a Python program to remove spaces from a given string\n",
    "\n",
    "string = input(\"Enter your string: \")\n",
    "print(string.replace(\" \",\"\"))\n",
    "\n"
   ]
  },
  {
   "cell_type": "code",
   "execution_count": 18,
   "id": "6b5f56de",
   "metadata": {},
   "outputs": [
    {
     "name": "stdout",
     "output_type": "stream",
     "text": [
      "Enter your string: data sciences\n",
      "New String is: dat scien\n"
     ]
    }
   ],
   "source": [
    "#35. Write a Python program to remove duplicate characters of a given string\n",
    "\n",
    "string = input(\"Enter your string: \")\n",
    "new_string = \"\"\n",
    "for i in string:\n",
    "    if i not in new_string:\n",
    "        new_string=new_string+i\n",
    "print(f\"New String is: {new_string}\")"
   ]
  },
  {
   "cell_type": "code",
   "execution_count": 29,
   "id": "f0977b72",
   "metadata": {},
   "outputs": [
    {
     "name": "stdout",
     "output_type": "stream",
     "text": [
      "Enter the Radius of Circle: 2\n",
      "Area of Circle is= 12.56\n"
     ]
    }
   ],
   "source": [
    "#36. Write a Python Program to find the area of a circle\n",
    "rad = float(input(\"Enter the Radius of Circle: \"))\n",
    "rad = 3.14 * rad ** 2\n",
    "print(f\"Area of Circle is= {rad}\")\n"
   ]
  },
  {
   "cell_type": "code",
   "execution_count": 26,
   "id": "daf55ac5",
   "metadata": {},
   "outputs": [
    {
     "name": "stdout",
     "output_type": "stream",
     "text": [
      "Enter the value of n: 5\n",
      "square sum of first 5 natural number is 55\n"
     ]
    }
   ],
   "source": [
    "#Q.37. Python Program to find Sum of squares of first n natural numbers\n",
    "sum = 0\n",
    "#n = 0\n",
    "n = int(input(\"Enter the value of n: \"))\n",
    "for i in range(1,n+1):\n",
    "    sum += i**2\n",
    "print(f\"square sum of first {n} natural number is {sum}\") \n",
    "\n"
   ]
  },
  {
   "cell_type": "code",
   "execution_count": 27,
   "id": "b2555f12",
   "metadata": {},
   "outputs": [
    {
     "name": "stdout",
     "output_type": "stream",
     "text": [
      "Enter the value of n: 5\n",
      "square sum of first 5 natural number is 225\n"
     ]
    }
   ],
   "source": [
    "#38. Python Program to find cube sum of first n natural numbers\n",
    "sum = 0\n",
    "#n = 0\n",
    "n = int(input(\"Enter the value of n: \"))\n",
    "for i in range(1,n+1):\n",
    "    sum += i**3\n",
    "print(f\"square sum of first {n} natural number is {sum}\") "
   ]
  },
  {
   "cell_type": "code",
   "execution_count": null,
   "id": "67fb03df",
   "metadata": {},
   "outputs": [],
   "source": [
    "#39. Python Program to find simple interest and compound interest\n",
    "p = float(input(\"Enter amount: \"))\n",
    "t = float(input(\"Enter term: \"))\n",
    "r = float(input(\"Enter rate of interest: \"))\n",
    "simple = (p*t*r)/100\n",
    "compound= p*((1+r/100)**t -1)\n",
    "print(f\"simple Interest is : {simple}\")\n",
    "print(f\"Compound Interest is: {compound}\")\n"
   ]
  },
  {
   "cell_type": "code",
   "execution_count": 23,
   "id": "b9be37c7",
   "metadata": {},
   "outputs": [
    {
     "name": "stdout",
     "output_type": "stream",
     "text": [
      " enter your no.=31\n",
      "31 is prime number\n"
     ]
    }
   ],
   "source": [
    "#40. Python program to check whether a number is Prime or not\n",
    "num= int(input(\" enter your no.=\"))\n",
    "\n",
    "#if num > 1:\n",
    "for i in range(2, num):\n",
    "    if (num % i) == 0:\n",
    "        print(num, \"is a not prime number\")\n",
    "#        break\n",
    "else:\n",
    "    print(num, \"is prime number\")\n",
    "    \n"
   ]
  },
  {
   "cell_type": "code",
   "execution_count": null,
   "id": "e671deea",
   "metadata": {},
   "outputs": [],
   "source": []
  }
 ],
 "metadata": {
  "kernelspec": {
   "display_name": "Python 3 (ipykernel)",
   "language": "python",
   "name": "python3"
  },
  "language_info": {
   "codemirror_mode": {
    "name": "ipython",
    "version": 3
   },
   "file_extension": ".py",
   "mimetype": "text/x-python",
   "name": "python",
   "nbconvert_exporter": "python",
   "pygments_lexer": "ipython3",
   "version": "3.10.2"
  }
 },
 "nbformat": 4,
 "nbformat_minor": 5
}
